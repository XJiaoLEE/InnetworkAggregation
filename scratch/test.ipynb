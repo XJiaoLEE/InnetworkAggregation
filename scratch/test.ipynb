{
 "cells": [
  {
   "cell_type": "code",
   "execution_count": 26,
   "id": "4a78041b",
   "metadata": {},
   "outputs": [
    {
     "name": "stdout",
     "output_type": "stream",
     "text": [
      "Average time = 250 ms for hierarchical aggregation with reno as default congestion control algorithm.\n",
      "Average time = 250 ms for hierarchical aggregation with bbr as default congestion control algorithm.\n"
     ]
    }
   ],
   "source": [
    "%%bash\n",
    "su root\n",
    "cd /home/jenny/workspace/ns-3-allinone/ns-3.37\n",
    "\n",
    "./ns3 run scratch/innetwork-test.cc -- --vsize=100 --topotype=1 > scratch/agg-reno-100.log 2>&1\n",
    "# process the log\n",
    "grep 'Innetwork aggregation completed' scratch/agg-reno-100.log | awk '{print $6}' | sed 's/ms//' > tmptimes\n",
    "#delete first record, this record is inaccurate\n",
    "sed '1d' tmptimes > times\n",
    "# calculate avg\n",
    "avg=$(awk '{sum += $1; count += 1} END {if (count > 0) print sum / count; else print 0}' times)\n",
    "echo \"Average time = $avg ms for hierarchical aggregation with reno as default congestion control algorithm.\"\n",
    "rm tmptimes times\n",
    "\n",
    "./ns3 run scratch/innetwork-test.cc -- --vsize=100 --cc=bbr --topotype=1 > scratch/agg-reno-bbr-100.log 2>&1\n",
    "# process the log\n",
    "grep 'Innetwork aggregation completed' scratch/agg-reno-bbr-100.log | awk '{print $6}' | sed 's/ms//' > tmptimes\n",
    "#delete first record, this record is inaccurate\n",
    "sed '1d' tmptimes > times\n",
    "# calculate avg\n",
    "avg=$(awk '{sum += $1; count += 1} END {if (count > 0) print sum / count; else print 0}' times)\n",
    "echo \"Average time = $avg ms for hierarchical aggregation with bbr as default congestion control algorithm.\"\n",
    "rm tmptimes times"
   ]
  },
  {
   "cell_type": "code",
   "execution_count": 29,
   "id": "026adb36",
   "metadata": {},
   "outputs": [
    {
     "name": "stdout",
     "output_type": "stream",
     "text": [
      "Average time = 300 ms for hierarchical aggregation with reno as default congestion control algorithm.\n",
      "Average time = 300 ms for hierarchical aggregation with bbr as default congestion control algorithm.\n"
     ]
    }
   ],
   "source": [
    "%%bash\n",
    "su root\n",
    "cd /home/jenny/workspace/ns-3-allinone/ns-3.37\n",
    "\n",
    "./ns3 run scratch/innetwork-test.cc -- --vsize=400 --topotype=1 > scratch/agg-reno-400.log 2>&1\n",
    "# process the log\n",
    "grep 'Innetwork aggregation completed' scratch/agg-reno-400.log | awk '{print $6}' | sed 's/ms//' > tmptimes\n",
    "#delete first record, this record is inaccurate\n",
    "sed '1d' tmptimes > times\n",
    "# calculate avg\n",
    "avg=$(awk '{sum += $1; count += 1} END {if (count > 0) print sum / count; else print 0}' times)\n",
    "echo \"Average time = $avg ms for hierarchical aggregation with reno as default congestion control algorithm.\"\n",
    "rm tmptimes times\n",
    "\n",
    "./ns3 run scratch/innetwork-test.cc -- --vsize=400 --cc=bbr --topotype=1 > scratch/agg-reno-bbr-400.log 2>&1\n",
    "# process the log\n",
    "grep 'Innetwork aggregation completed' scratch/agg-reno-bbr-400.log | awk '{print $6}' | sed 's/ms//' > tmptimes\n",
    "#delete first record, this record is inaccurate\n",
    "sed '1d' tmptimes > times\n",
    "# calculate avg\n",
    "avg=$(awk '{sum += $1; count += 1} END {if (count > 0) print sum / count; else print 0}' times)\n",
    "echo \"Average time = $avg ms for hierarchical aggregation with bbr as default congestion control algorithm.\"\n",
    "rm tmptimes times"
   ]
  },
  {
   "cell_type": "code",
   "execution_count": 30,
   "id": "71586b1c",
   "metadata": {},
   "outputs": [
    {
     "name": "stdout",
     "output_type": "stream",
     "text": [
      "Average time = 500 ms for hierarchical aggregation with reno as default congestion control algorithm.\n",
      "Average time = 500 ms for hierarchical aggregation with bbr as default congestion control algorithm.\n"
     ]
    }
   ],
   "source": [
    "%%bash\n",
    "su root\n",
    "cd /home/jenny/workspace/ns-3-allinone/ns-3.37\n",
    "\n",
    "./ns3 run scratch/innetwork-test.cc -- --vsize=800 --topotype=1 > scratch/agg-reno-800.log 2>&1\n",
    "# process the log\n",
    "grep 'Innetwork aggregation completed' scratch/agg-reno-800.log | awk '{print $6}' | sed 's/ms//' > tmptimes\n",
    "#delete first record, this record is inaccurate\n",
    "sed '1d' tmptimes > times\n",
    "# calculate avg\n",
    "avg=$(awk '{sum += $1; count += 1} END {if (count > 0) print sum / count; else print 0}' times)\n",
    "echo \"Average time = $avg ms for hierarchical aggregation with reno as default congestion control algorithm.\"\n",
    "rm tmptimes times\n",
    "\n",
    "./ns3 run scratch/innetwork-test.cc -- --vsize=800 --cc=bbr --topotype=1 > scratch/agg-bbr-800.log 2>&1\n",
    "# process the log\n",
    "grep 'Innetwork aggregation completed' scratch/agg-bbr-800.log | awk '{print $6}' | sed 's/ms//' > tmptimes\n",
    "#delete first record, this record is inaccurate\n",
    "sed '1d' tmptimes > times\n",
    "# calculate avg\n",
    "avg=$(awk '{sum += $1; count += 1} END {if (count > 0) print sum / count; else print 0}' times)\n",
    "echo \"Average time = $avg ms for hierarchical aggregation with bbr as default congestion control algorithm.\"\n",
    "rm tmptimes times"
   ]
  },
  {
   "cell_type": "code",
   "execution_count": 16,
   "id": "ab8f0094-304a-4f06-a2ab-5c1f5960a06f",
   "metadata": {},
   "outputs": [
    {
     "name": "stdout",
     "output_type": "stream",
     "text": [
      "Average time = 550 ms for hierarchical aggregation with reno as default congestion control algorithm.\n",
      "Average time = 550 ms for hierarchical aggregation with bbr as default congestion control algorithm.\n"
     ]
    }
   ],
   "source": [
    "%%bash\n",
    "su root\n",
    "cd /home/jenny/workspace/ns-3-allinone/ns-3.37\n",
    "\n",
    "./ns3 run scratch/innetwork-test.cc -- --vsize=1000 --topotype=1 > scratch/agg-reno-1000.log 2>&1\n",
    "# process the log\n",
    "grep 'Innetwork aggregation completed' scratch/agg-reno-1000.log | awk '{print $6}' | sed 's/ms//' > tmptimes\n",
    "#delete first record, this record is inaccurate\n",
    "sed '1d' tmptimes > times\n",
    "# calculate avg\n",
    "avg=$(awk '{sum += $1; count += 1} END {if (count > 0) print sum / count; else print 0}' times)\n",
    "echo \"Average time = $avg ms for hierarchical aggregation with reno as default congestion control algorithm.\"\n",
    "rm tmptimes times\n",
    "\n",
    "./ns3 run scratch/innetwork-test.cc -- --vsize=1000 --cc=bbr --topotype=1 > scratch/agg-reno-bbr-1000.log 2>&1\n",
    "# process the log\n",
    "grep 'Innetwork aggregation completed' scratch/agg-reno-bbr-1000.log | awk '{print $6}' | sed 's/ms//' > tmptimes\n",
    "#delete first record, this record is inaccurate\n",
    "sed '1d' tmptimes > times\n",
    "# calculate avg\n",
    "avg=$(awk '{sum += $1; count += 1} END {if (count > 0) print sum / count; else print 0}' times)\n",
    "echo \"Average time = $avg ms for hierarchical aggregation with bbr as default congestion control algorithm.\"\n",
    "rm tmptimes times"
   ]
  },
  {
   "cell_type": "code",
   "execution_count": 23,
   "id": "15342603",
   "metadata": {},
   "outputs": [
    {
     "name": "stdout",
     "output_type": "stream",
     "text": [
      "Average time = 550 ms for hierarchical aggregation with reno as default congestion control algorithm.\n",
      "Average time = 550 ms for hierarchical aggregation with bbr as default congestion control algorithm.\n"
     ]
    }
   ],
   "source": [
    "%%bash\n",
    "su root\n",
    "cd /home/jenny/workspace/ns-3-allinone/ns-3.37\n",
    "\n",
    "./ns3 run scratch/innetwork-test.cc -- --vsize=1000 --topotype=1 > scratch/agg-reno-10001.log 2>&1\n",
    "# process the log\n",
    "grep 'Innetwork aggregation completed' scratch/agg-reno-10001.log | awk '{print $6}' | sed 's/ms//' > tmptimes\n",
    "#delete first record, this record is inaccurate\n",
    "sed '1d' tmptimes > times\n",
    "# calculate avg\n",
    "avg=$(awk '{sum += $1; count += 1} END {if (count > 0) print sum / count; else print 0}' times)\n",
    "echo \"Average time = $avg ms for hierarchical aggregation with reno as default congestion control algorithm.\"\n",
    "rm tmptimes times\n",
    "\n",
    "./ns3 run scratch/innetwork-test.cc -- --vsize=1000 --cc=bbr --topotype=1 > scratch/agg-bbr-10001.log 2>&1\n",
    "# process the log\n",
    "grep 'Innetwork aggregation completed' scratch/agg-bbr-10001.log | awk '{print $6}' | sed 's/ms//' > tmptimes\n",
    "#delete first record, this record is inaccurate\n",
    "sed '1d' tmptimes > times\n",
    "# calculate avg\n",
    "avg=$(awk '{sum += $1; count += 1} END {if (count > 0) print sum / count; else print 0}' times)\n",
    "echo \"Average time = $avg ms for hierarchical aggregation with bbr as default congestion control algorithm.\"\n",
    "rm tmptimes times"
   ]
  },
  {
   "cell_type": "code",
   "execution_count": 33,
   "id": "f8f4ab70",
   "metadata": {},
   "outputs": [
    {
     "name": "stdout",
     "output_type": "stream",
     "text": [
      "Average time = 1000 ms for hierarchical aggregation with reno as default congestion control algorithm.\n",
      "Average time = 1000 ms for hierarchical aggregation with bbr as default congestion control algorithm.\n"
     ]
    }
   ],
   "source": [
    "%%bash\n",
    "su root\n",
    "cd /home/jenny/workspace/ns-3-allinone/ns-3.37\n",
    "\n",
    "./ns3 run scratch/innetwork-test.cc -- --vsize=2000 --topotype=1 > scratch/agg-reno-2000.log 2>&1\n",
    "# process the log\n",
    "grep 'Innetwork aggregation completed' scratch/agg-reno-2000.log | awk '{print $6}' | sed 's/ms//' > tmptimes\n",
    "#delete first record, this record is inaccurate\n",
    "sed '1d' tmptimes > times\n",
    "# calculate avg\n",
    "avg=$(awk '{sum += $1; count += 1} END {if (count > 0) print sum / count; else print 0}' times)\n",
    "echo \"Average time = $avg ms for hierarchical aggregation with reno as default congestion control algorithm.\"\n",
    "rm tmptimes times\n",
    "\n",
    "./ns3 run scratch/innetwork-test.cc -- --vsize=2000 --cc=bbr --topotype=1 > scratch/agg-bbr-2000.log 2>&1\n",
    "# process the log\n",
    "grep 'Innetwork aggregation completed' scratch/agg-bbr-2000.log | awk '{print $6}' | sed 's/ms//' > tmptimes\n",
    "#delete first record, this record is inaccurate\n",
    "sed '1d' tmptimes > times\n",
    "# calculate avg\n",
    "avg=$(awk '{sum += $1; count += 1} END {if (count > 0) print sum / count; else print 0}' times)\n",
    "echo \"Average time = $avg ms for hierarchical aggregation with bbr as default congestion control algorithm.\"\n",
    "rm tmptimes times"
   ]
  },
  {
   "cell_type": "code",
   "execution_count": 22,
   "id": "b16e9985",
   "metadata": {},
   "outputs": [
    {
     "name": "stdout",
     "output_type": "stream",
     "text": [
      "Average time = 1000.85 ms for reno with direct topo\n"
     ]
    }
   ],
   "source": [
    "%%bash\n",
    "su root\n",
    "cd /home/jenny/workspace/ns-3-allinone/ns-3.37\n",
    "\n",
    "./ns3 run scratch/innetwork-test.cc -- --vsize=400 --topotype=0 > scratch/dir-reno-400.log 2>&1\n",
    "# process the log\n",
    "grep 'Innetwork aggregation completed' scratch/dir-reno-400.log | awk '{print $6}' | sed 's/ms//' > tmptimes\n",
    "#delete first record, this record is inaccurate\n",
    "sed '1d' tmptimes > times\n",
    "# calculate avg\n",
    "avg=$(awk '{sum += $1; count += 1} END {if (count > 0) print sum / count; else print 0}' times)\n",
    "echo \"Average time = $avg ms for reno with direct topo\"\n",
    "rm tmptimes times"
   ]
  },
  {
   "cell_type": "code",
   "execution_count": 18,
   "id": "350ba4f2",
   "metadata": {},
   "outputs": [
    {
     "name": "stdout",
     "output_type": "stream",
     "text": [
      "Average time = 2203.25 ms for reno with direct topo\n"
     ]
    }
   ],
   "source": [
    "%%bash\n",
    "su root\n",
    "cd /home/jenny/workspace/ns-3-allinone/ns-3.37\n",
    "\n",
    "./ns3 run scratch/innetwork-test.cc -- --vsize=1000 --topotype=0 > scratch/dir-reno-10001.log 2>&1\n",
    "# process the log\n",
    "grep 'Innetwork aggregation completed' scratch/dir-reno-10001.log | awk '{print $6}' | sed 's/ms//' > tmptimes\n",
    "#delete first record, this record is inaccurate\n",
    "sed '1d' tmptimes > times\n",
    "# calculate avg\n",
    "avg=$(awk '{sum += $1; count += 1} END {if (count > 0) print sum / count; else print 0}' times)\n",
    "echo \"Average time = $avg ms for reno with direct topo\"\n",
    "rm tmptimes times"
   ]
  },
  {
   "cell_type": "code",
   "execution_count": 20,
   "id": "16fb7b93",
   "metadata": {},
   "outputs": [
    {
     "name": "stdout",
     "output_type": "stream",
     "text": [
      "Average time = 2201.35 ms for reno with direct topo\n"
     ]
    }
   ],
   "source": [
    "%%bash\n",
    "su root\n",
    "cd /home/jenny/workspace/ns-3-allinone/ns-3.37\n",
    "\n",
    "./ns3 run scratch/innetwork-test.cc -- --vsize=1000  --cc=bbr --topotype=0 > scratch/dir-bbr-10001.log 2>&1\n",
    "# process the log\n",
    "grep 'Innetwork aggregation completed' scratch/dir-bbr-10001.log | awk '{print $6}' | sed 's/ms//' > tmptimes\n",
    "#delete first record, this record is inaccurate\n",
    "sed '1d' tmptimes > times\n",
    "# calculate avg\n",
    "avg=$(awk '{sum += $1; count += 1} END {if (count > 0) print sum / count; else print 0}' times)\n",
    "echo \"Average time = $avg ms for reno with direct topo\"\n",
    "rm tmptimes times"
   ]
  },
  {
   "cell_type": "code",
   "execution_count": 47,
   "id": "fab3b6ea",
   "metadata": {},
   "outputs": [
    {
     "name": "stdout",
     "output_type": "stream",
     "text": [
      "Average time = 2201.38 ms for reno with direct topo\n",
      "Average time = 2201.35 ms for reno with direct topo\n"
     ]
    }
   ],
   "source": [
    "%%bash\n",
    "su root\n",
    "cd /home/jenny/workspace/ns-3-allinone/ns-3.37\n",
    "\n",
    "./ns3 run scratch/innetwork-test.cc -- --vsize=1000 --topotype=0 > scratch/dir-reno-1000.log 2>&1\n",
    "# process the log\n",
    "grep 'Innetwork aggregation completed' scratch/dir-reno-1000.log | awk '{print $6}' | sed 's/ms//' > tmptimes\n",
    "#delete first record, this record is inaccurate\n",
    "sed '1d' tmptimes > times\n",
    "# calculate avg\n",
    "avg=$(awk '{sum += $1; count += 1} END {if (count > 0) print sum / count; else print 0}' times)\n",
    "echo \"Average time = $avg ms for reno with direct topo\"\n",
    "rm tmptimes times\n",
    "\n",
    "./ns3 run scratch/innetwork-test.cc -- --vsize=1000 --cc=bbr --topotype=0 > scratch/dir-bbr-1000.log 2>&1\n",
    "# process the log\n",
    "grep 'Innetwork aggregation completed' scratch/dir-bbr-1000.log | awk '{print $6}' | sed 's/ms//' > tmptimes\n",
    "#delete first record, this record is inaccurate\n",
    "sed '1d' tmptimes > times\n",
    "# calculate avg\n",
    "avg=$(awk '{sum += $1; count += 1} END {if (count > 0) print sum / count; else print 0}' times)\n",
    "echo \"Average time = $avg ms for reno with direct topo\"\n",
    "rm tmptimes times"
   ]
  },
  {
   "cell_type": "code",
   "execution_count": 48,
   "id": "d95ce45e",
   "metadata": {},
   "outputs": [
    {
     "name": "stdout",
     "output_type": "stream",
     "text": [
      "Average time = 351.301 ms for reno with direct topo\n",
      "Average time = 351.301 ms for reno with direct topo\n"
     ]
    }
   ],
   "source": [
    "%%bash\n",
    "su root\n",
    "cd /home/jenny/workspace/ns-3-allinone/ns-3.37\n",
    "\n",
    "./ns3 run scratch/innetwork-test.cc -- --vsize=100 --cc=bbr --topotype=0 > scratch/dir-bbr-100.log 2>&1\n",
    "# process the log\n",
    "grep 'Innetwork aggregation completed' scratch/dir-bbr-100.log | awk '{print $6}' | sed 's/ms//' > tmptimes\n",
    "#delete first record, this record is inaccurate\n",
    "sed '1d' tmptimes > times\n",
    "# calculate avg\n",
    "avg=$(awk '{sum += $1; count += 1} END {if (count > 0) print sum / count; else print 0}' times)\n",
    "echo \"Average time = $avg ms for reno with direct topo\"\n",
    "rm tmptimes times\n",
    "\n",
    "./ns3 run scratch/innetwork-test.cc -- --vsize=100 --topotype=0 > scratch/dir-reno-100.log 2>&1\n",
    "# process the log\n",
    "grep 'Innetwork aggregation completed' scratch/dir-reno-100.log | awk '{print $6}' | sed 's/ms//' > tmptimes\n",
    "#delete first record, this record is inaccurate\n",
    "sed '1d' tmptimes > times\n",
    "# calculate avg\n",
    "avg=$(awk '{sum += $1; count += 1} END {if (count > 0) print sum / count; else print 0}' times)\n",
    "echo \"Average time = $avg ms for reno with direct topo\"\n",
    "rm tmptimes times"
   ]
  },
  {
   "cell_type": "code",
   "execution_count": null,
   "id": "69e9a8b4",
   "metadata": {},
   "outputs": [],
   "source": [
    "%%bash\n",
    "su root\n",
    "cd /home/jenny/workspace/ns-3-allinone/ns-3.37\n",
    "\n",
    "./ns3 run scratch/innetwork-test.cc -- --vsize=400 --cc=bbr --topotype=0 > scratch/dir-bbr-400.log 2>&1\n",
    "# process the log\n",
    "grep 'Innetwork aggregation completed' scratch/dir-bbr-400.log | awk '{print $6}' | sed 's/ms//' > tmptimes\n",
    "#delete first record, this record is inaccurate\n",
    "sed '1d' tmptimes > times\n",
    "# calculate avg\n",
    "avg=$(awk '{sum += $1; count += 1} END {if (count > 0) print sum / count; else print 0}' times)\n",
    "echo \"Average time = $avg ms for bbr with direct topo\"\n",
    "rm tmptimes times\n",
    "\n",
    "./ns3 run scratch/innetwork-test.cc -- --vsize=400 --topotype=0 > scratch/dir-reno-400.log 2>&1\n",
    "# process the log\n",
    "grep 'Innetwork aggregation completed' scratch/dir-reno-400.log | awk '{print $6}' | sed 's/ms//' > tmptimes\n",
    "#delete first record, this record is inaccurate\n",
    "sed '1d' tmptimes > times\n",
    "# calculate avg\n",
    "avg=$(awk '{sum += $1; count += 1} END {if (count > 0) print sum / count; else print 0}' times)\n",
    "echo \"Average time = $avg ms for reno with direct topo\"\n",
    "rm tmptimes times"
   ]
  }
 ],
 "metadata": {
  "kernelspec": {
   "display_name": "Python 3 (ipykernel)",
   "language": "python",
   "name": "python3"
  },
  "language_info": {
   "codemirror_mode": {
    "name": "ipython",
    "version": 3
   },
   "file_extension": ".py",
   "mimetype": "text/x-python",
   "name": "python",
   "nbconvert_exporter": "python",
   "pygments_lexer": "ipython3",
   "version": "3.6.15"
  }
 },
 "nbformat": 4,
 "nbformat_minor": 5
}
